{
  "cells": [
    {
      "cell_type": "markdown",
      "metadata": {
        "colab_type": "text",
        "id": "RxpJvkp0i45X"
      },
      "source": [
        "# Parking Space Detection\n",
        "Cloning M-RCNN repository"
      ]
    },
    {
      "cell_type": "code",
      "execution_count": 24,
      "metadata": {
        "colab": {
          "base_uri": "https://localhost:8080/",
          "height": 102
        },
        "colab_type": "code",
        "id": "biEeoxZ96mnf",
        "outputId": "514046f6-642c-4282-d347-e77df9a77aff"
      },
      "outputs": [],
      "source": [
        "# !git clone https://github.com/matterport/Mask_RCNN"
      ]
    },
    {
      "cell_type": "code",
      "execution_count": 25,
      "metadata": {},
      "outputs": [],
      "source": [
        "import os\n",
        "# os.chdir(\"Mask_RCNN/\")\n"
      ]
    },
    {
      "cell_type": "markdown",
      "metadata": {
        "colab_type": "text",
        "id": "q6RVTOd-lqAw"
      },
      "source": [
        "### Importing required modules"
      ]
    },
    {
      "cell_type": "code",
      "execution_count": 26,
      "metadata": {
        "colab": {
          "base_uri": "https://localhost:8080/",
          "height": 97
        },
        "colab_type": "code",
        "id": "KmZsqYiM6rDN",
        "outputId": "6ad54ce6-4adf-4b55-f889-1530d489e58e"
      },
      "outputs": [],
      "source": [
        "\n",
        "import numpy as np\n",
        "import cv2\n",
        "import mrcnn.config\n",
        "import mrcnn.utils\n",
        "from mrcnn.model import MaskRCNN\n",
        "from pathlib import Path\n",
        "# from google.colab.patches import cv2_imshow\n",
        "import pickle5 as pickle\n",
        "\n",
        "from shapely.geometry import box\n",
        "from shapely.geometry import Polygon as shapely_poly\n",
        "from IPython.display import clear_output, Image, display, HTML\n",
        "import io\n",
        "import base64\n",
        "%matplotlib inline"
      ]
    },
    {
      "cell_type": "markdown",
      "metadata": {
        "colab_type": "text",
        "id": "yUArvFy4lups"
      },
      "source": [
        "### Configuring M-RCNN"
      ]
    },
    {
      "cell_type": "code",
      "execution_count": 27,
      "metadata": {
        "colab": {
          "base_uri": "https://localhost:8080/",
          "height": 921
        },
        "colab_type": "code",
        "id": "kNhNipSe80rM",
        "outputId": "e845e521-f734-4c60-f81f-df2b25ad8e4c"
      },
      "outputs": [
        {
          "name": "stdout",
          "output_type": "stream",
          "text": [
            "\n",
            "Configurations:\n",
            "BACKBONE                       resnet101\n",
            "BACKBONE_STRIDES               [4, 8, 16, 32, 64]\n",
            "BATCH_SIZE                     1\n",
            "BBOX_STD_DEV                   [0.1 0.1 0.2 0.2]\n",
            "COMPUTE_BACKBONE_SHAPE         None\n",
            "DETECTION_MAX_INSTANCES        100\n",
            "DETECTION_MIN_CONFIDENCE       0.7\n",
            "DETECTION_NMS_THRESHOLD        0.3\n",
            "FPN_CLASSIF_FC_LAYERS_SIZE     1024\n",
            "GPU_COUNT                      1\n",
            "GRADIENT_CLIP_NORM             5.0\n",
            "IMAGES_PER_GPU                 1\n",
            "IMAGE_CHANNEL_COUNT            3\n",
            "IMAGE_MAX_DIM                  1024\n",
            "IMAGE_META_SIZE                93\n",
            "IMAGE_MIN_DIM                  800\n",
            "IMAGE_MIN_SCALE                0\n",
            "IMAGE_RESIZE_MODE              square\n",
            "IMAGE_SHAPE                    [1024 1024    3]\n",
            "LEARNING_MOMENTUM              0.9\n",
            "LEARNING_RATE                  0.001\n",
            "LOSS_WEIGHTS                   {'rpn_class_loss': 1.0, 'rpn_bbox_loss': 1.0, 'mrcnn_class_loss': 1.0, 'mrcnn_bbox_loss': 1.0, 'mrcnn_mask_loss': 1.0}\n",
            "MASK_POOL_SIZE                 14\n",
            "MASK_SHAPE                     [28, 28]\n",
            "MAX_GT_INSTANCES               100\n",
            "MEAN_PIXEL                     [123.7 116.8 103.9]\n",
            "MINI_MASK_SHAPE                (56, 56)\n",
            "NAME                           coco_pretrained_model_config\n",
            "NUM_CLASSES                    81\n",
            "POOL_SIZE                      7\n",
            "POST_NMS_ROIS_INFERENCE        1000\n",
            "POST_NMS_ROIS_TRAINING         2000\n",
            "PRE_NMS_LIMIT                  6000\n",
            "ROI_POSITIVE_RATIO             0.33\n",
            "RPN_ANCHOR_RATIOS              [0.5, 1, 2]\n",
            "RPN_ANCHOR_SCALES              (32, 64, 128, 256, 512)\n",
            "RPN_ANCHOR_STRIDE              1\n",
            "RPN_BBOX_STD_DEV               [0.1 0.1 0.2 0.2]\n",
            "RPN_NMS_THRESHOLD              0.7\n",
            "RPN_TRAIN_ANCHORS_PER_IMAGE    256\n",
            "STEPS_PER_EPOCH                1000\n",
            "TOP_DOWN_PYRAMID_SIZE          256\n",
            "TRAIN_BN                       False\n",
            "TRAIN_ROIS_PER_IMAGE           200\n",
            "USE_MINI_MASK                  True\n",
            "USE_RPN_ROIS                   True\n",
            "VALIDATION_STEPS               50\n",
            "WEIGHT_DECAY                   0.0001\n",
            "\n",
            "\n"
          ]
        }
      ],
      "source": [
        "class Config(mrcnn.config.Config):\n",
        "    NAME = \"coco_pretrained_model_config\"\n",
        "    IMAGES_PER_GPU = 1\n",
        "    GPU_COUNT = 1\n",
        "    NUM_CLASSES = 81\n",
        "\n",
        "config = Config()\n",
        "config.display()"
      ]
    },
    {
      "cell_type": "code",
      "execution_count": 28,
      "metadata": {
        "colab": {},
        "colab_type": "code",
        "id": "Juh-Hok06_ia"
      },
      "outputs": [],
      "source": [
        "ROOT_DIR = Path(\".\")\n",
        "MODEL_DIR = os.path.join(ROOT_DIR, \"logs\")\n",
        "COCO_MODEL_PATH = os.path.join(ROOT_DIR, \"mask_rcnn_coco.h5\")"
      ]
    },
    {
      "cell_type": "markdown",
      "metadata": {
        "colab_type": "text",
        "id": "LR1YNJarl9u1"
      },
      "source": [
        "### Download pre-trained Model"
      ]
    },
    {
      "cell_type": "code",
      "execution_count": 34,
      "metadata": {
        "colab": {
          "base_uri": "https://localhost:8080/",
          "height": 51
        },
        "colab_type": "code",
        "id": "v0BG-bXy7QV7",
        "outputId": "286c9cc0-6430-483b-99c4-5c6484ab7d8d"
      },
      "outputs": [
        {
          "name": "stdout",
          "output_type": "stream",
          "text": [
            "Downloading pretrained model to .\\mask_rcnn_coco.h5 ...\n",
            "... done downloading pretrained model!\n"
          ]
        }
      ],
      "source": [
        "if not os.path.exists(COCO_MODEL_PATH):\n",
        "    mrcnn.utils.download_trained_weights(COCO_MODEL_PATH)"
      ]
    },
    {
      "cell_type": "markdown",
      "metadata": {
        "colab_type": "text",
        "id": "8SSD6RRamH3e"
      },
      "source": [
        "# Loading pre-trained model "
      ]
    },
    {
      "cell_type": "code",
      "execution_count": 35,
      "metadata": {
        "colab": {
          "base_uri": "https://localhost:8080/",
          "height": 496
        },
        "colab_type": "code",
        "id": "zLO8g8dV7-ol",
        "outputId": "6c0f20d7-8810-47c6-8ae5-8d8476452d49"
      },
      "outputs": [],
      "source": [
        "model = MaskRCNN(mode=\"inference\", model_dir=MODEL_DIR, config=Config())"
      ]
    },
    {
      "cell_type": "code",
      "execution_count": 36,
      "metadata": {
        "colab": {
          "base_uri": "https://localhost:8080/",
          "height": 241
        },
        "colab_type": "code",
        "id": "_NDUyXt97-yy",
        "outputId": "0ac998e3-c420-4a9a-fb95-f19eb69a02ad"
      },
      "outputs": [],
      "source": [
        "model.load_weights(COCO_MODEL_PATH, by_name=True)"
      ]
    },
    {
      "cell_type": "markdown",
      "metadata": {
        "colab_type": "text",
        "id": "lDVLXxVCmNg7"
      },
      "source": [
        "#### Create data directory"
      ]
    },
    {
      "cell_type": "code",
      "execution_count": 37,
      "metadata": {
        "colab": {},
        "colab_type": "code",
        "id": "_HB3h8yb7kbq"
      },
      "outputs": [],
      "source": [
        "#  This will contain test videos and images\n",
        "if not os.path.exists(\"./data\"):\n",
        "    os.makedirs(\"./data\")"
      ]
    },
    {
      "cell_type": "markdown",
      "metadata": {
        "colab_type": "text",
        "id": "omx9aaHSmiam"
      },
      "source": [
        "### Uploading data\n",
        "upload your video file and praking regions file using the sidebar. See image for reference.\n",
        "\n",
        "![alt text](https://i.imgur.com/UMu9xV5.png)\n",
        "\n",
        "After uploading the files. Edit the cell below to load the correct files."
      ]
    },
    {
      "cell_type": "code",
      "execution_count": 38,
      "metadata": {
        "colab": {},
        "colab_type": "code",
        "id": "GSIGwFVbmVnY"
      },
      "outputs": [],
      "source": [
        "VIDEO_SOURCE = \"data/parkiranft_Trim.mp4\"\n",
        "PARKING_REGIONS = \"data/regionparkiranft.p\"\n",
        "with open(PARKING_REGIONS, 'rb') as f:\n",
        "    parked_car_boxes = pickle.load(f)"
      ]
    },
    {
      "cell_type": "markdown",
      "metadata": {
        "colab_type": "text",
        "id": "Va_mnJJqojTB"
      },
      "source": [
        "### Function to filter out car boxes"
      ]
    },
    {
      "cell_type": "code",
      "execution_count": 39,
      "metadata": {
        "colab": {},
        "colab_type": "code",
        "id": "xuIxxP4lEaIk"
      },
      "outputs": [],
      "source": [
        "def get_car_boxes(boxes, class_ids):\n",
        "    car_boxes = []\n",
        "\n",
        "    for i, box in enumerate(boxes):\n",
        "        # If the detected object isn't a car / truck, skip it\n",
        "        if class_ids[i] in [3, 8, 6]:\n",
        "            car_boxes.append(box)\n",
        "\n",
        "    return np.array(car_boxes)"
      ]
    },
    {
      "cell_type": "markdown",
      "metadata": {
        "colab_type": "text",
        "id": "hMD6uopdom-z"
      },
      "source": [
        "### Function to compute IoU"
      ]
    },
    {
      "cell_type": "code",
      "execution_count": 40,
      "metadata": {
        "colab": {},
        "colab_type": "code",
        "id": "iA7WdE7U76oq"
      },
      "outputs": [],
      "source": [
        "def compute_overlaps(parked_car_boxes, car_boxes):\n",
        "    \n",
        "    new_car_boxes = []\n",
        "    for box in car_boxes:\n",
        "        y1 = box[0]\n",
        "        x1 = box[1]\n",
        "        y2 = box[2]\n",
        "        x2 = box[3]\n",
        "        \n",
        "        p1 = (x1, y1)\n",
        "        p2 = (x2, y1)\n",
        "        p3 = (x2, y2)\n",
        "        p4 = (x1, y2)\n",
        "        new_car_boxes.append([p1, p2, p3, p4])\n",
        "    \n",
        "    overlaps = np.zeros((len(parked_car_boxes), len(new_car_boxes)))\n",
        "    for i in range(len(parked_car_boxes)):\n",
        "        for j in range(car_boxes.shape[0]):\n",
        "            pol1_xy = parked_car_boxes[i]\n",
        "            pol2_xy = new_car_boxes[j]\n",
        "            polygon1_shape = shapely_poly(pol1_xy)\n",
        "            polygon2_shape = shapely_poly(pol2_xy)\n",
        "\n",
        "            polygon_intersection = polygon1_shape.intersection(polygon2_shape).area\n",
        "            polygon_union = polygon1_shape.union(polygon2_shape).area\n",
        "            IOU = polygon_intersection / polygon_union\n",
        "            overlaps[i][j] = IOU\n",
        "\n",
        "    return overlaps"
      ]
    },
    {
      "cell_type": "markdown",
      "metadata": {
        "colab_type": "text",
        "id": "o0s9J8PwoMiU"
      },
      "source": [
        "### Function to display processed images"
      ]
    },
    {
      "cell_type": "code",
      "execution_count": 41,
      "metadata": {
        "colab": {},
        "colab_type": "code",
        "id": "pmCYrOA2BAxN"
      },
      "outputs": [],
      "source": [
        "def arrayShow (imageArray):\n",
        "    ret, png = cv2.imencode('.png', imageArray)\n",
        "    encoded = base64.b64encode(png)\n",
        "    return Image(data=encoded.decode('ascii'))"
      ]
    },
    {
      "cell_type": "markdown",
      "metadata": {
        "colab_type": "text",
        "id": "5BkbSaJ3osS8"
      },
      "source": [
        "### Putting it all together"
      ]
    },
    {
      "cell_type": "code",
      "execution_count": 42,
      "metadata": {
        "colab": {
          "base_uri": "https://localhost:8080/",
          "height": 711
        },
        "colab_type": "code",
        "id": "zkH4eJjdBBne",
        "outputId": "85d1cc6f-30fd-4eaa-e185-7462cd96a0c0"
      },
      "outputs": [
        {
          "ename": "ValueError",
          "evalue": "zero-size array to reduction operation maximum which has no identity",
          "output_type": "error",
          "traceback": [
            "\u001b[1;31m---------------------------------------------------------------------------\u001b[0m",
            "\u001b[1;31mValueError\u001b[0m                                Traceback (most recent call last)",
            "\u001b[1;32m<ipython-input-42-f801d8b6c4f0>\u001b[0m in \u001b[0;36m<module>\u001b[1;34m()\u001b[0m\n\u001b[0;32m     25\u001b[0m     \u001b[1;31m#print(overlaps)\u001b[0m\u001b[1;33m\u001b[0m\u001b[1;33m\u001b[0m\u001b[1;33m\u001b[0m\u001b[0m\n\u001b[0;32m     26\u001b[0m     \u001b[1;32mfor\u001b[0m \u001b[0mparking_area\u001b[0m\u001b[1;33m,\u001b[0m \u001b[0moverlap_areas\u001b[0m \u001b[1;32min\u001b[0m \u001b[0mzip\u001b[0m\u001b[1;33m(\u001b[0m\u001b[0mparked_car_boxes\u001b[0m\u001b[1;33m,\u001b[0m \u001b[0moverlaps\u001b[0m\u001b[1;33m)\u001b[0m\u001b[1;33m:\u001b[0m\u001b[1;33m\u001b[0m\u001b[1;33m\u001b[0m\u001b[0m\n\u001b[1;32m---> 27\u001b[1;33m         \u001b[0mmax_IoU_overlap\u001b[0m \u001b[1;33m=\u001b[0m \u001b[0mnp\u001b[0m\u001b[1;33m.\u001b[0m\u001b[0mmax\u001b[0m\u001b[1;33m(\u001b[0m\u001b[0moverlap_areas\u001b[0m\u001b[1;33m)\u001b[0m\u001b[1;33m\u001b[0m\u001b[1;33m\u001b[0m\u001b[0m\n\u001b[0m\u001b[0;32m     28\u001b[0m         \u001b[1;32mif\u001b[0m \u001b[0mmax_IoU_overlap\u001b[0m \u001b[1;33m<\u001b[0m \u001b[1;36m0.15\u001b[0m\u001b[1;33m:\u001b[0m\u001b[1;33m\u001b[0m\u001b[1;33m\u001b[0m\u001b[0m\n\u001b[0;32m     29\u001b[0m             \u001b[0mcv2\u001b[0m\u001b[1;33m.\u001b[0m\u001b[0mfillPoly\u001b[0m\u001b[1;33m(\u001b[0m\u001b[0moverlay\u001b[0m\u001b[1;33m,\u001b[0m \u001b[1;33m[\u001b[0m\u001b[0mnp\u001b[0m\u001b[1;33m.\u001b[0m\u001b[0marray\u001b[0m\u001b[1;33m(\u001b[0m\u001b[0mparking_area\u001b[0m\u001b[1;33m)\u001b[0m\u001b[1;33m]\u001b[0m\u001b[1;33m,\u001b[0m \u001b[1;33m(\u001b[0m\u001b[1;36m71\u001b[0m\u001b[1;33m,\u001b[0m \u001b[1;36m27\u001b[0m\u001b[1;33m,\u001b[0m \u001b[1;36m92\u001b[0m\u001b[1;33m)\u001b[0m\u001b[1;33m)\u001b[0m\u001b[1;33m\u001b[0m\u001b[1;33m\u001b[0m\u001b[0m\n",
            "\u001b[1;32m<__array_function__ internals>\u001b[0m in \u001b[0;36mamax\u001b[1;34m(*args, **kwargs)\u001b[0m\n",
            "\u001b[1;32mC:\\Users\\ancem\\anaconda3\\envs\\despro\\lib\\site-packages\\numpy\\core\\fromnumeric.py\u001b[0m in \u001b[0;36mamax\u001b[1;34m(a, axis, out, keepdims, initial, where)\u001b[0m\n\u001b[0;32m   2704\u001b[0m     \"\"\"\n\u001b[0;32m   2705\u001b[0m     return _wrapreduction(a, np.maximum, 'max', axis, None, out,\n\u001b[1;32m-> 2706\u001b[1;33m                           keepdims=keepdims, initial=initial, where=where)\n\u001b[0m\u001b[0;32m   2707\u001b[0m \u001b[1;33m\u001b[0m\u001b[0m\n\u001b[0;32m   2708\u001b[0m \u001b[1;33m\u001b[0m\u001b[0m\n",
            "\u001b[1;32mC:\\Users\\ancem\\anaconda3\\envs\\despro\\lib\\site-packages\\numpy\\core\\fromnumeric.py\u001b[0m in \u001b[0;36m_wrapreduction\u001b[1;34m(obj, ufunc, method, axis, dtype, out, **kwargs)\u001b[0m\n\u001b[0;32m     85\u001b[0m                 \u001b[1;32mreturn\u001b[0m \u001b[0mreduction\u001b[0m\u001b[1;33m(\u001b[0m\u001b[0maxis\u001b[0m\u001b[1;33m=\u001b[0m\u001b[0maxis\u001b[0m\u001b[1;33m,\u001b[0m \u001b[0mout\u001b[0m\u001b[1;33m=\u001b[0m\u001b[0mout\u001b[0m\u001b[1;33m,\u001b[0m \u001b[1;33m**\u001b[0m\u001b[0mpasskwargs\u001b[0m\u001b[1;33m)\u001b[0m\u001b[1;33m\u001b[0m\u001b[1;33m\u001b[0m\u001b[0m\n\u001b[0;32m     86\u001b[0m \u001b[1;33m\u001b[0m\u001b[0m\n\u001b[1;32m---> 87\u001b[1;33m     \u001b[1;32mreturn\u001b[0m \u001b[0mufunc\u001b[0m\u001b[1;33m.\u001b[0m\u001b[0mreduce\u001b[0m\u001b[1;33m(\u001b[0m\u001b[0mobj\u001b[0m\u001b[1;33m,\u001b[0m \u001b[0maxis\u001b[0m\u001b[1;33m,\u001b[0m \u001b[0mdtype\u001b[0m\u001b[1;33m,\u001b[0m \u001b[0mout\u001b[0m\u001b[1;33m,\u001b[0m \u001b[1;33m**\u001b[0m\u001b[0mpasskwargs\u001b[0m\u001b[1;33m)\u001b[0m\u001b[1;33m\u001b[0m\u001b[1;33m\u001b[0m\u001b[0m\n\u001b[0m\u001b[0;32m     88\u001b[0m \u001b[1;33m\u001b[0m\u001b[0m\n\u001b[0;32m     89\u001b[0m \u001b[1;33m\u001b[0m\u001b[0m\n",
            "\u001b[1;31mValueError\u001b[0m: zero-size array to reduction operation maximum which has no identity"
          ]
        }
      ],
      "source": [
        "alpha = 0.6\n",
        "# video_capture = cv2.VideoCapture(VIDEO_SOURCE)\n",
        "video_capture = cv2.VideoCapture(0)\n",
        "# cnt=0\n",
        "\n",
        "video_FourCC    = cv2.VideoWriter_fourcc('M','J','P','G')\n",
        "video_fps       = video_capture.get(cv2.CAP_PROP_FPS)\n",
        "video_size      = (int(video_capture.get(cv2.CAP_PROP_FRAME_WIDTH)),\n",
        "                    int(video_capture.get(cv2.CAP_PROP_FRAME_HEIGHT)))\n",
        "out = cv2.VideoWriter(\"out.avi\", video_FourCC, video_fps, video_size)\n",
        "\n",
        "while video_capture.isOpened():\n",
        "    success, frame = video_capture.read()\n",
        "    \n",
        "    overlay = frame.copy()\n",
        "    if not success:\n",
        "        break\n",
        "\n",
        "    rgb_image = frame[:, :, ::-1]\n",
        "    results = model.detect([rgb_image], verbose=0)\n",
        "\n",
        "    car_boxes = get_car_boxes(results[0]['rois'], results[0]['class_ids'])\n",
        "    overlaps = compute_overlaps(parked_car_boxes, car_boxes)\n",
        "    cnt=0\n",
        "    #print(overlaps)\n",
        "    for parking_area, overlap_areas in zip(parked_car_boxes, overlaps):  \n",
        "        max_IoU_overlap = np.max(overlap_areas)\n",
        "        if max_IoU_overlap < 0.15:\n",
        "            cv2.fillPoly(overlay, [np.array(parking_area)], (71, 27, 92))\n",
        "            free_space = True\n",
        "        else:\n",
        "            cnt += 1    \n",
        "    cv2.addWeighted(overlay, alpha, frame, 1 - alpha, 0, frame)\n",
        "    print(cnt)\n",
        "    out.write(frame)\n",
        "\n",
        "    clear_output(wait=True)\n",
        "    img = arrayShow(frame)\n",
        "    display(img)\n",
        "\n",
        "    if cv2.waitKey(1) & 0xFF == ord('q'):\n",
        "        break\n",
        "\n",
        "video_capture.release()\n",
        "out.release()\n",
        "cv2.destroyAllWindows()"
      ]
    },
    {
      "cell_type": "code",
      "execution_count": null,
      "metadata": {},
      "outputs": [],
      "source": []
    }
  ],
  "metadata": {
    "accelerator": "GPU",
    "colab": {
      "collapsed_sections": [],
      "name": "Parking.ipynb",
      "provenance": []
    },
    "interpreter": {
      "hash": "43b9621915eef013f1045920fd00c34eecf8bbcfffea361afe56cd26b1fa2306"
    },
    "kernelspec": {
      "display_name": "Python 3.10.0 64-bit ('despro': conda)",
      "name": "python3"
    },
    "language_info": {
      "codemirror_mode": {
        "name": "ipython",
        "version": 3
      },
      "file_extension": ".py",
      "mimetype": "text/x-python",
      "name": "python",
      "nbconvert_exporter": "python",
      "pygments_lexer": "ipython3",
      "version": "3.6.13"
    }
  },
  "nbformat": 4,
  "nbformat_minor": 0
}
